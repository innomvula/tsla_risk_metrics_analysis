{
 "cells": [
  {
   "cell_type": "markdown",
   "id": "0792469c-92c3-4f51-b39e-18e4b6ebcf91",
   "metadata": {},
   "source": [
    "# Load Libraries"
   ]
  },
  {
   "cell_type": "code",
   "execution_count": 2,
   "id": "2826a3f2-73ac-4252-8c37-f24c8a763b8d",
   "metadata": {},
   "outputs": [],
   "source": [
    "import pandas as pd\n",
    "import numpy as np\n",
    "import matplotlib.pyplot as plt\n",
    "import seaborn as sns\n",
    "\n",
    "import yfinance as yf\n",
    "\n",
    "# for reproducibility \n",
    "np.random.seed(42)"
   ]
  },
  {
   "cell_type": "markdown",
   "id": "bd1325f8-dd83-4cb0-be73-be11e671caad",
   "metadata": {},
   "source": [
    "# Load Data"
   ]
  },
  {
   "cell_type": "code",
   "execution_count": 4,
   "id": "c672cd1e-f63c-4365-a4dc-10e6ad0cf7af",
   "metadata": {},
   "outputs": [
    {
     "name": "stdout",
     "output_type": "stream",
     "text": [
      "YF.download() has changed argument auto_adjust default to True\n"
     ]
    },
    {
     "name": "stderr",
     "output_type": "stream",
     "text": [
      "[*********************100%***********************]  1 of 1 completed\n"
     ]
    }
   ],
   "source": [
    "start_date = \"2024-01-01\"\n",
    "end_date = pd.Timestamp.today().strftime('%Y-%m-%d')\n",
    "\n",
    "tsla = yf.download(\"TSLA\", start=start_date, end=end_date)"
   ]
  },
  {
   "cell_type": "code",
   "execution_count": 5,
   "id": "20d7792d-f87f-45d6-8a9f-a824ba1cce42",
   "metadata": {},
   "outputs": [
    {
     "data": {
      "text/html": [
       "<div>\n",
       "<style scoped>\n",
       "    .dataframe tbody tr th:only-of-type {\n",
       "        vertical-align: middle;\n",
       "    }\n",
       "\n",
       "    .dataframe tbody tr th {\n",
       "        vertical-align: top;\n",
       "    }\n",
       "\n",
       "    .dataframe thead tr th {\n",
       "        text-align: left;\n",
       "    }\n",
       "\n",
       "    .dataframe thead tr:last-of-type th {\n",
       "        text-align: right;\n",
       "    }\n",
       "</style>\n",
       "<table border=\"1\" class=\"dataframe\">\n",
       "  <thead>\n",
       "    <tr>\n",
       "      <th>Price</th>\n",
       "      <th>Close</th>\n",
       "      <th>High</th>\n",
       "      <th>Low</th>\n",
       "      <th>Open</th>\n",
       "      <th>Volume</th>\n",
       "    </tr>\n",
       "    <tr>\n",
       "      <th>Ticker</th>\n",
       "      <th>TSLA</th>\n",
       "      <th>TSLA</th>\n",
       "      <th>TSLA</th>\n",
       "      <th>TSLA</th>\n",
       "      <th>TSLA</th>\n",
       "    </tr>\n",
       "    <tr>\n",
       "      <th>Date</th>\n",
       "      <th></th>\n",
       "      <th></th>\n",
       "      <th></th>\n",
       "      <th></th>\n",
       "      <th></th>\n",
       "    </tr>\n",
       "  </thead>\n",
       "  <tbody>\n",
       "    <tr>\n",
       "      <th>2024-01-02</th>\n",
       "      <td>248.419998</td>\n",
       "      <td>251.250000</td>\n",
       "      <td>244.410004</td>\n",
       "      <td>250.080002</td>\n",
       "      <td>104654200</td>\n",
       "    </tr>\n",
       "    <tr>\n",
       "      <th>2024-01-03</th>\n",
       "      <td>238.449997</td>\n",
       "      <td>245.679993</td>\n",
       "      <td>236.320007</td>\n",
       "      <td>244.979996</td>\n",
       "      <td>121082600</td>\n",
       "    </tr>\n",
       "    <tr>\n",
       "      <th>2024-01-04</th>\n",
       "      <td>237.929993</td>\n",
       "      <td>242.699997</td>\n",
       "      <td>237.729996</td>\n",
       "      <td>239.250000</td>\n",
       "      <td>102629300</td>\n",
       "    </tr>\n",
       "    <tr>\n",
       "      <th>2024-01-05</th>\n",
       "      <td>237.490005</td>\n",
       "      <td>240.119995</td>\n",
       "      <td>234.899994</td>\n",
       "      <td>236.860001</td>\n",
       "      <td>92379400</td>\n",
       "    </tr>\n",
       "    <tr>\n",
       "      <th>2024-01-08</th>\n",
       "      <td>240.449997</td>\n",
       "      <td>241.250000</td>\n",
       "      <td>235.300003</td>\n",
       "      <td>236.139999</td>\n",
       "      <td>85166600</td>\n",
       "    </tr>\n",
       "  </tbody>\n",
       "</table>\n",
       "</div>"
      ],
      "text/plain": [
       "Price            Close        High         Low        Open     Volume\n",
       "Ticker            TSLA        TSLA        TSLA        TSLA       TSLA\n",
       "Date                                                                 \n",
       "2024-01-02  248.419998  251.250000  244.410004  250.080002  104654200\n",
       "2024-01-03  238.449997  245.679993  236.320007  244.979996  121082600\n",
       "2024-01-04  237.929993  242.699997  237.729996  239.250000  102629300\n",
       "2024-01-05  237.490005  240.119995  234.899994  236.860001   92379400\n",
       "2024-01-08  240.449997  241.250000  235.300003  236.139999   85166600"
      ]
     },
     "execution_count": 5,
     "metadata": {},
     "output_type": "execute_result"
    }
   ],
   "source": [
    "tsla.head()"
   ]
  },
  {
   "cell_type": "code",
   "execution_count": 6,
   "id": "3fb3ddfe-92b3-4a94-92b9-4c775b80cf6c",
   "metadata": {},
   "outputs": [],
   "source": [
    "# Flatten column headers\n",
    "tsla.columns = [col[0] for col in tsla.columns]"
   ]
  },
  {
   "cell_type": "code",
   "execution_count": 7,
   "id": "fe540600-270f-4b91-9231-af2d62527af2",
   "metadata": {},
   "outputs": [
    {
     "data": {
      "text/html": [
       "<div>\n",
       "<style scoped>\n",
       "    .dataframe tbody tr th:only-of-type {\n",
       "        vertical-align: middle;\n",
       "    }\n",
       "\n",
       "    .dataframe tbody tr th {\n",
       "        vertical-align: top;\n",
       "    }\n",
       "\n",
       "    .dataframe thead th {\n",
       "        text-align: right;\n",
       "    }\n",
       "</style>\n",
       "<table border=\"1\" class=\"dataframe\">\n",
       "  <thead>\n",
       "    <tr style=\"text-align: right;\">\n",
       "      <th></th>\n",
       "      <th>Close</th>\n",
       "      <th>High</th>\n",
       "      <th>Low</th>\n",
       "      <th>Open</th>\n",
       "      <th>Volume</th>\n",
       "    </tr>\n",
       "    <tr>\n",
       "      <th>Date</th>\n",
       "      <th></th>\n",
       "      <th></th>\n",
       "      <th></th>\n",
       "      <th></th>\n",
       "      <th></th>\n",
       "    </tr>\n",
       "  </thead>\n",
       "  <tbody>\n",
       "    <tr>\n",
       "      <th>2024-01-02</th>\n",
       "      <td>248.419998</td>\n",
       "      <td>251.25</td>\n",
       "      <td>244.410004</td>\n",
       "      <td>250.080002</td>\n",
       "      <td>104654200</td>\n",
       "    </tr>\n",
       "  </tbody>\n",
       "</table>\n",
       "</div>"
      ],
      "text/plain": [
       "                 Close    High         Low        Open     Volume\n",
       "Date                                                             \n",
       "2024-01-02  248.419998  251.25  244.410004  250.080002  104654200"
      ]
     },
     "execution_count": 7,
     "metadata": {},
     "output_type": "execute_result"
    }
   ],
   "source": [
    "tsla.head(1)"
   ]
  },
  {
   "cell_type": "code",
   "execution_count": 8,
   "id": "2d7eb4cb-e9bb-46cc-98c0-f6f6f283eec6",
   "metadata": {},
   "outputs": [],
   "source": [
    "# reset index\n",
    "tsla.reset_index(inplace = True)"
   ]
  },
  {
   "cell_type": "code",
   "execution_count": 9,
   "id": "bfe92dc2-f0f7-4100-9848-1bef5744ba0b",
   "metadata": {},
   "outputs": [
    {
     "data": {
      "text/html": [
       "<div>\n",
       "<style scoped>\n",
       "    .dataframe tbody tr th:only-of-type {\n",
       "        vertical-align: middle;\n",
       "    }\n",
       "\n",
       "    .dataframe tbody tr th {\n",
       "        vertical-align: top;\n",
       "    }\n",
       "\n",
       "    .dataframe thead th {\n",
       "        text-align: right;\n",
       "    }\n",
       "</style>\n",
       "<table border=\"1\" class=\"dataframe\">\n",
       "  <thead>\n",
       "    <tr style=\"text-align: right;\">\n",
       "      <th></th>\n",
       "      <th>Date</th>\n",
       "      <th>Close</th>\n",
       "      <th>High</th>\n",
       "      <th>Low</th>\n",
       "      <th>Open</th>\n",
       "      <th>Volume</th>\n",
       "    </tr>\n",
       "  </thead>\n",
       "  <tbody>\n",
       "    <tr>\n",
       "      <th>0</th>\n",
       "      <td>2024-01-02</td>\n",
       "      <td>248.419998</td>\n",
       "      <td>251.25</td>\n",
       "      <td>244.410004</td>\n",
       "      <td>250.080002</td>\n",
       "      <td>104654200</td>\n",
       "    </tr>\n",
       "  </tbody>\n",
       "</table>\n",
       "</div>"
      ],
      "text/plain": [
       "        Date       Close    High         Low        Open     Volume\n",
       "0 2024-01-02  248.419998  251.25  244.410004  250.080002  104654200"
      ]
     },
     "execution_count": 9,
     "metadata": {},
     "output_type": "execute_result"
    }
   ],
   "source": [
    "tsla.head(1)"
   ]
  },
  {
   "cell_type": "code",
   "execution_count": 20,
   "id": "8faf64dd-69e8-45de-a305-4e1ea7bfe33c",
   "metadata": {},
   "outputs": [],
   "source": [
    "# Rename 'Close' to 'Adj Close'\n",
    "tsla.rename(columns={'Close': 'Adj Close'}, inplace=True)"
   ]
  },
  {
   "cell_type": "code",
   "execution_count": 22,
   "id": "744289e9-2c55-4dfa-86cf-1bb09b54a298",
   "metadata": {},
   "outputs": [
    {
     "name": "stdout",
     "output_type": "stream",
     "text": [
      "<class 'pandas.core.frame.DataFrame'>\n",
      "RangeIndex: 321 entries, 0 to 320\n",
      "Data columns (total 6 columns):\n",
      " #   Column     Non-Null Count  Dtype         \n",
      "---  ------     --------------  -----         \n",
      " 0   Date       321 non-null    datetime64[ns]\n",
      " 1   Adj Close  321 non-null    float64       \n",
      " 2   High       321 non-null    float64       \n",
      " 3   Low        321 non-null    float64       \n",
      " 4   Open       321 non-null    float64       \n",
      " 5   Volume     321 non-null    int64         \n",
      "dtypes: datetime64[ns](1), float64(4), int64(1)\n",
      "memory usage: 15.2 KB\n"
     ]
    }
   ],
   "source": [
    "tsla.info()"
   ]
  },
  {
   "cell_type": "markdown",
   "id": "22534703-7493-48d6-948e-38f7470c0010",
   "metadata": {},
   "source": [
    "# Analysis"
   ]
  },
  {
   "cell_type": "markdown",
   "id": "56178014-c756-4e98-bf28-97d73778b172",
   "metadata": {},
   "source": [
    "## 1. Calculate returns"
   ]
  },
  {
   "cell_type": "code",
   "execution_count": 24,
   "id": "404a9188-e9f3-4fb9-aa9f-44d2ebd53632",
   "metadata": {},
   "outputs": [],
   "source": [
    "# Calculate daily simple returns\n",
    "tsla['Simple_Returns'] = tsla['Adj Close'].pct_change()"
   ]
  },
  {
   "cell_type": "code",
   "execution_count": 26,
   "id": "fc14cc0a-c816-422c-8b6c-9314bc2f9c94",
   "metadata": {},
   "outputs": [],
   "source": [
    "# Calculate daily log returns\n",
    "tsla['Log_Returns'] = np.log(tsla['Adj Close'] / tsla['Adj Close'].shift(1))"
   ]
  },
  {
   "cell_type": "code",
   "execution_count": 28,
   "id": "fe373616-82b2-4d33-9d9a-2a06af27aa05",
   "metadata": {},
   "outputs": [],
   "source": [
    "# Drop rows with NaNs\n",
    "tsla = tsla.dropna(subset=['Simple_Returns'])"
   ]
  },
  {
   "cell_type": "markdown",
   "id": "4cbe468a-b7b9-497f-aebc-875e5b04f43b",
   "metadata": {},
   "source": [
    "## 2. Plot Returns"
   ]
  },
  {
   "cell_type": "code",
   "execution_count": 35,
   "id": "42f5b271-38cc-40d5-ad2f-b2cc47e33142",
   "metadata": {},
   "outputs": [
    {
     "data": {
      "image/png": "[encoded data removed]",
      "text/plain": [
       "<Figure size 1400x600 with 2 Axes>"
      ]
     },
     "metadata": {},
     "output_type": "display_data"
    }
   ],
   "source": [
    "# Set up plot style\n",
    "plt.figure(figsize=(14, 6))\n",
    "\n",
    "# Plot log returns\n",
    "plt.subplot(1, 2, 1)\n",
    "sns.histplot(tsla['Log_Returns'], bins=50, kde=True, color='steelblue')\n",
    "plt.title('Distribution of Log Returns')\n",
    "plt.xlabel('Log Return')\n",
    "plt.ylabel('Frequency')\n",
    "\n",
    "# Plot simple returns\n",
    "plt.subplot(1, 2, 2)\n",
    "sns.histplot(tsla['Simple_Returns'], bins=50, kde=True, color='darkorange')\n",
    "plt.title('Distribution of Simple Returns')\n",
    "plt.xlabel('Simple Return')\n",
    "plt.ylabel('Frequency')\n",
    "\n",
    "plt.tight_layout()\n",
    "plt.show()\n"
   ]
  },
  {
   "cell_type": "markdown",
   "id": "7c4de6da-d96b-40e6-90b8-718903254c8e",
   "metadata": {},
   "source": [
    "**Comments**\n",
    "- Both simple and log returns appear to have a bell shape distribution showing clearly not perfectly normal. There is a slight left skew and fat tails for both distributions. THe peak is also very sharp indicating leptokurtosis which could mean a higher probabality of extreme returns than a normal distribution would predict"
   ]
  },
  {
   "cell_type": "markdown",
   "id": "480c44c1-55cf-44b1-ae12-b0a328b61bf3",
   "metadata": {},
   "source": [
    "## 3. Calculate Risk Measures"
   ]
  },
  {
   "cell_type": "markdown",
   "id": "c349442a-72cc-4edb-88b8-b7591c3513d1",
   "metadata": {},
   "source": [
    "#### 3.1. Historical approach"
   ]
  },
  {
   "cell_type": "code",
   "execution_count": 66,
   "id": "ff4eb44e-15e5-420b-a57d-1479fdae05d7",
   "metadata": {},
   "outputs": [],
   "source": [
    "# Define function to calculate Historical VaR\n",
    "def calculate_historical_var(series, confidence_levels=[0.95, 0.99]):\n",
    "    return {\n",
    "        f\"{int(cl * 100)}%\": -np.percentile(series.dropna(), 100 * (1 - cl))\n",
    "        for cl in confidence_levels\n",
    "    }"
   ]
  },
  {
   "cell_type": "code",
   "execution_count": 68,
   "id": "823e5618-fdf2-469e-b6ed-792454a5c0fb",
   "metadata": {},
   "outputs": [],
   "source": [
    "# Calculate Historical VaR\n",
    "var_simple = calculate_historical_var(tsla['Simple_Returns'])\n",
    "var_log = calculate_historical_var(tsla['Log_Returns'])"
   ]
  },
  {
   "cell_type": "code",
   "execution_count": 70,
   "id": "3de31e21-0b29-435a-9eeb-23a5b8817a39",
   "metadata": {},
   "outputs": [],
   "source": [
    "# Combine into DataFrame\n",
    "var_table = pd.DataFrame({\n",
    "    'Simple_Returns': var_simple,\n",
    "    'Log_Returns': var_log\n",
    "}).T"
   ]
  },
  {
   "cell_type": "code",
   "execution_count": 72,
   "id": "3a517fe6-d281-4261-9c23-2065329dcda9",
   "metadata": {},
   "outputs": [
    {
     "name": "stdout",
     "output_type": "stream",
     "text": [
      "Historical Value at Risk (VaR):\n",
      "                  95%     99%\n",
      "Simple_Returns  5.65%  10.11%\n",
      "Log_Returns     5.82%  10.66%\n"
     ]
    }
   ],
   "source": [
    "# Format as percentages\n",
    "var_table = var_table.map(lambda x: f\"{x:.2%}\")\n",
    "print(\"Historical Value at Risk (VaR):\")\n",
    "print(var_table)\n"
   ]
  },
  {
   "cell_type": "markdown",
   "id": "e48494bb-17d3-4f4d-9d9d-bccf83475c71",
   "metadata": {},
   "source": [
    "**Comments**\n",
    "- VaR is calculated to be slighly higher for the log returns, at both the 95% and 99% confidence levels."
   ]
  },
  {
   "cell_type": "code",
   "execution_count": 81,
   "id": "1ad2f2b0-ead8-4165-ae97-8a1246f551c2",
   "metadata": {},
   "outputs": [],
   "source": [
    "# Define function to calculate Historical ES\n",
    "def calculate_historical_es(series, confidence_levels=[0.95, 0.99]):\n",
    "    es_results = {}\n",
    "    sorted_returns = series.dropna().sort_values()\n",
    "    n = len(sorted_returns)\n",
    "    \n",
    "    for cl in confidence_levels:\n",
    "        cutoff_index = int((1 - cl) * n)\n",
    "        tail_losses = sorted_returns[:cutoff_index]\n",
    "        es_results[f\"{int(cl * 100)}%\"] = -tail_losses.mean()\n",
    "    \n",
    "    return es_results"
   ]
  },
  {
   "cell_type": "code",
   "execution_count": 83,
   "id": "d7d4e0d7-1b84-4a4c-ba0b-2340145396d5",
   "metadata": {},
   "outputs": [],
   "source": [
    "# Compute ES\n",
    "es_log = calculate_historical_es(tsla['Log_Returns'])\n",
    "es_simple = calculate_historical_es(tsla['Simple_Returns'])"
   ]
  },
  {
   "cell_type": "code",
   "execution_count": 85,
   "id": "e4ad9f29-8118-408e-95c5-9ef2ad8f79ac",
   "metadata": {},
   "outputs": [],
   "source": [
    "# Combine into DataFrame\n",
    "es_table = pd.DataFrame({\n",
    "    'Simple Returns': es_simple,\n",
    "    'Log Returns': es_log\n",
    "}).T"
   ]
  },
  {
   "cell_type": "code",
   "execution_count": 87,
   "id": "b730cf2b-add0-4112-a9ad-190689018cf2",
   "metadata": {},
   "outputs": [
    {
     "name": "stdout",
     "output_type": "stream",
     "text": [
      "Historical Expected Shortfall (ES):\n",
      "                  95%     99%\n",
      "Simple Returns  8.62%  13.30%\n",
      "Log Returns     9.06%  14.28%\n"
     ]
    }
   ],
   "source": [
    "# Format as percentages\n",
    "es_table = es_table.map(lambda x: f\"{x:.2%}\")\n",
    "print(\"Historical Expected Shortfall (ES):\")\n",
    "print(es_table)"
   ]
  },
  {
   "cell_type": "markdown",
   "id": "6f9b95b4-778d-4899-b610-4cc6e381a11f",
   "metadata": {},
   "source": [
    "**Comments**\n",
    "- As expected, ES values are higher than VaR at each confidence level\n",
    "- The difference between ES and VaR widens at higher confidence (e.g., 99%), highlighting tail risk that VaR alone may underestimate.\n",
    "- Log returns again show slightly more conservative estimates, aligning with earlier VaR results."
   ]
  },
  {
   "cell_type": "markdown",
   "id": "d06bd761-86fc-4048-943a-a8391d75d4e5",
   "metadata": {},
   "source": [
    "#### 3.2. Parametric Approach"
   ]
  },
  {
   "cell_type": "code",
   "execution_count": 104,
   "id": "c3fd4e82-907e-447f-91b1-f4e19f1b8b49",
   "metadata": {},
   "outputs": [],
   "source": [
    "from scipy.stats import norm\n",
    "\n",
    "# Use simple returns\n",
    "mu = tsla['Simple_Returns'].mean()\n",
    "sigma = tsla['Simple_Returns'].std()\n",
    "confidence_levels = [0.95, 0.99]"
   ]
  },
  {
   "cell_type": "code",
   "execution_count": 106,
   "id": "9df643a2-2ecf-4959-a25f-47ae7f0968f5",
   "metadata": {},
   "outputs": [],
   "source": [
    "# Calculate Parametric VaR and ES\n",
    "parametric_results = {\"VaR\": {}, \"ES\": {}}"
   ]
  },
  {
   "cell_type": "code",
   "execution_count": 108,
   "id": "d6cece0a-7e8b-426f-b82a-8d16b838a569",
   "metadata": {},
   "outputs": [],
   "source": [
    "for cl in confidence_levels:\n",
    "    z = norm.ppf(1 - cl)\n",
    "    pdf = norm.pdf(z)\n",
    "    \n",
    "    var = -(mu + z * sigma)\n",
    "    es = -mu + (sigma * pdf) / (1 - cl)\n",
    "\n",
    "    parametric_results[\"VaR\"][f\"{int(cl*100)}%\"] = var\n",
    "    parametric_results[\"ES\"][f\"{int(cl*100)}%\"] = es"
   ]
  },
  {
   "cell_type": "code",
   "execution_count": 110,
   "id": "fb2c3e8f-bd85-4c50-813e-51e7b60f8805",
   "metadata": {},
   "outputs": [],
   "source": [
    "# Format into DataFrames\n",
    "param_var_df = pd.DataFrame(parametric_results[\"VaR\"], index=[\"Parametric VaR\"])\n",
    "param_es_df = pd.DataFrame(parametric_results[\"ES\"], index=[\"Parametric ES\"])"
   ]
  },
  {
   "cell_type": "code",
   "execution_count": 112,
   "id": "6a551a53-6da1-4b96-9f10-8fb2ddf23190",
   "metadata": {},
   "outputs": [],
   "source": [
    "# Combine and format\n",
    "param_table = pd.concat([param_var_df, param_es_df])\n",
    "param_table = param_table.map(lambda x: f\"{x:.2%}\")"
   ]
  },
  {
   "cell_type": "code",
   "execution_count": 114,
   "id": "e835f9d8-51b3-4da4-982e-65e77d1e2dde",
   "metadata": {},
   "outputs": [
    {
     "name": "stdout",
     "output_type": "stream",
     "text": [
      "Parametric (Normal) VaR and ES:\n",
      "                  95%     99%\n",
      "Parametric VaR  7.06%  10.03%\n",
      "Parametric ES   8.88%  11.50%\n"
     ]
    }
   ],
   "source": [
    "print(\"Parametric (Normal) VaR and ES:\")\n",
    "print(param_table)"
   ]
  },
  {
   "cell_type": "code",
   "execution_count": 126,
   "id": "83ba679b-2917-4c37-a9f6-294bc91c393e",
   "metadata": {},
   "outputs": [],
   "source": [
    "# Use log returns for parametric estimation\n",
    "mu_log = tsla['Log_Returns'].mean()\n",
    "sigma_log = tsla['Log_Returns'].std()\n",
    "confidence_levels = [0.95, 0.99]"
   ]
  },
  {
   "cell_type": "code",
   "execution_count": 128,
   "id": "cb088c74-4bbd-430a-9b11-bcb0acb51d5b",
   "metadata": {},
   "outputs": [],
   "source": [
    "# Containers for results\n",
    "parametric_lognorm_var = {}\n",
    "parametric_lognorm_es = {}"
   ]
  },
  {
   "cell_type": "code",
   "execution_count": 130,
   "id": "d6bffa1a-5942-4131-91e3-6d06a6286371",
   "metadata": {},
   "outputs": [],
   "source": [
    "for cl in confidence_levels:\n",
    "    z = norm.ppf(1 - cl)\n",
    "    # Log-normal VaR: proportion of value lost\n",
    "    loss = 1 - np.exp(mu_log + z * sigma_log)\n",
    "    parametric_lognorm_var[f\"{int(cl * 100)}%\"] = loss"
   ]
  },
  {
   "cell_type": "code",
   "execution_count": 132,
   "id": "52c02d97-f4b0-4d0b-bb73-1344b09cb917",
   "metadata": {},
   "outputs": [],
   "source": [
    "# Number of simulations for ES\n",
    "n_sim = 100000\n",
    "simulated_z = np.random.normal(0, 1, n_sim)\n",
    "\n",
    "for cl in confidence_levels:\n",
    "    z_cutoff = norm.ppf(1 - cl)\n",
    "    \n",
    "    # ---- Log-Normal VaR ----\n",
    "    var = 1 - np.exp(mu_log + z_cutoff * sigma_log)\n",
    "    parametric_lognorm_var[f\"{int(cl * 100)}%\"] = var\n",
    "\n",
    "    # ---- Log-Normal ES (simulation) ----\n",
    "    tail_z = simulated_z[simulated_z <= z_cutoff]\n",
    "    simulated_returns = np.exp(mu_log + sigma_log * tail_z)\n",
    "    es = 1 - simulated_returns.mean()\n",
    "    parametric_lognorm_es[f\"{int(cl * 100)}%\"] = es"
   ]
  },
  {
   "cell_type": "code",
   "execution_count": 138,
   "id": "96fc4555-0afc-496d-a6f5-13b1dcd18e54",
   "metadata": {},
   "outputs": [],
   "source": [
    "# Create formatted DataFrames\n",
    "lognorm_var_df = pd.DataFrame(parametric_lognorm_var, index=[\"Log-Normal VaR\"])\n",
    "lognorm_es_df = pd.DataFrame(parametric_lognorm_es, index=[\"Log-Normal ES\"])\n",
    "lognorm_results = pd.concat([lognorm_var_df, lognorm_es_df])\n",
    "lognorm_results = lognorm_results.map(lambda x: f\"{x:.2%}\")"
   ]
  },
  {
   "cell_type": "code",
   "execution_count": 140,
   "id": "0a563840-8256-4bf9-80d8-75960cc988ca",
   "metadata": {},
   "outputs": [
    {
     "name": "stdout",
     "output_type": "stream",
     "text": [
      "Parametric Log-Normal VaR and ES (using log returns):\n",
      "                  95%     99%\n",
      "Log-Normal VaR  6.80%   9.49%\n",
      "Log-Normal ES   8.46%  10.79%\n"
     ]
    }
   ],
   "source": [
    "# Display results\n",
    "print(\"Parametric Log-Normal VaR and ES (using log returns):\")\n",
    "print(lognorm_results)"
   ]
  },
  {
   "cell_type": "markdown",
   "id": "b040dd66-b969-4bbc-8798-cfb2cfce10e4",
   "metadata": {},
   "source": [
    "**comments**\n",
    "- The VaR estimates are slightly lower than the historical ones. This is because the normal distribution underestimates fat tails and ignores extreme losses present in real data.\n",
    "- Compared to historical ES, log-normal ES is typically more optimistic, again due to the assumption of light tails."
   ]
  },
  {
   "cell_type": "markdown",
   "id": "814c4429-9d4e-48c0-8670-7890ef3c8fa9",
   "metadata": {},
   "source": [
    "# 4. Evaluate Risk Measures"
   ]
  },
  {
   "cell_type": "code",
   "execution_count": 147,
   "id": "9798cb45-2707-441d-b165-8edc7e701a67",
   "metadata": {},
   "outputs": [],
   "source": [
    "def bootstrap_var_es(series, confidence_levels=[0.95, 0.99], n_bootstrap=1000):\n",
    "    var_boot = {f\"{int(cl * 100)}%\": [] for cl in confidence_levels}\n",
    "    es_boot = {f\"{int(cl * 100)}%\": [] for cl in confidence_levels}\n",
    "    \n",
    "    series = series.dropna().values\n",
    "\n",
    "    for _ in range(n_bootstrap):\n",
    "        sample = np.random.choice(series, size=len(series), replace=True)\n",
    "        sorted_sample = np.sort(sample)\n",
    "\n",
    "        for cl in confidence_levels:\n",
    "            cutoff_idx = int((1 - cl) * len(sample))\n",
    "            var = -np.percentile(sample, 100 * (1 - cl))\n",
    "            es = -sorted_sample[:cutoff_idx].mean()\n",
    "            var_boot[f\"{int(cl * 100)}%\"].append(var)\n",
    "            es_boot[f\"{int(cl * 100)}%\"].append(es)\n",
    "\n",
    "    # Compute standard errors\n",
    "    var_se = {cl: np.std(var_boot[cl]) for cl in var_boot}\n",
    "    es_se = {cl: np.std(es_boot[cl]) for cl in es_boot}\n",
    "    \n",
    "    return pd.DataFrame({\n",
    "        'VaR Std. Error': var_se,\n",
    "        'ES Std. Error': es_se\n",
    "}).T"
   ]
  },
  {
   "cell_type": "code",
   "execution_count": 149,
   "id": "16a03a33-3265-4195-a57e-31276b34a9b0",
   "metadata": {},
   "outputs": [],
   "source": [
    "# Run bootstrap for both return types\n",
    "se_log = bootstrap_var_es(tsla['Log_Returns'])\n",
    "se_simple = bootstrap_var_es(tsla['Simple_Returns'])"
   ]
  },
  {
   "cell_type": "code",
   "execution_count": 150,
   "id": "81ef5c89-accb-4d06-8f42-90ee745aaa5a",
   "metadata": {},
   "outputs": [],
   "source": [
    "# Rename for clarity\n",
    "se_log.index = ['VaR Std. Error (Log)', 'ES Std. Error (Log)']\n",
    "se_simple.index = ['VaR Std. Error (Simple)', 'ES Std. Error (Simple)']"
   ]
  },
  {
   "cell_type": "code",
   "execution_count": 155,
   "id": "0465930e-9881-46ed-bd44-33d67828d257",
   "metadata": {},
   "outputs": [],
   "source": [
    "# Combine\n",
    "se_table = pd.concat([se_log, se_simple])\n",
    "se_table = se_table.map(lambda x: f\"{x:.4%}\")"
   ]
  },
  {
   "cell_type": "code",
   "execution_count": 157,
   "id": "3f142943-bef6-4e73-93ea-2e799663c224",
   "metadata": {},
   "outputs": [
    {
     "name": "stdout",
     "output_type": "stream",
     "text": [
      "Standard Errors from Bootstrapping (Historical Estimates):\n",
      "                             95%      99%\n",
      "VaR Std. Error (Log)     0.5649%  1.8934%\n",
      "ES Std. Error (Log)      1.0123%  1.8520%\n",
      "VaR Std. Error (Simple)  0.5563%  1.6660%\n",
      "ES Std. Error (Simple)   0.9171%  1.6129%\n"
     ]
    }
   ],
   "source": [
    "print(\"Standard Errors from Bootstrapping (Historical Estimates):\")\n",
    "print(se_table)"
   ]
  },
  {
   "cell_type": "code",
   "execution_count": 159,
   "id": "83f67ac1-5871-4d5c-90c9-14c516fb3b0d",
   "metadata": {},
   "outputs": [],
   "source": [
    "def bootstrap_ci(series, confidence_levels=[0.95, 0.99], n_bootstrap=1000, ci_level=0.95):\n",
    "    var_boot = {f\"{int(cl * 100)}%\": [] for cl in confidence_levels}\n",
    "    es_boot = {f\"{int(cl * 100)}%\": [] for cl in confidence_levels}\n",
    "    \n",
    "    series = series.dropna().values\n",
    "\n",
    "    for _ in range(n_bootstrap):\n",
    "        sample = np.random.choice(series, size=len(series), replace=True)\n",
    "        sorted_sample = np.sort(sample)\n",
    "\n",
    "        for cl in confidence_levels:\n",
    "            cutoff_idx = int((1 - cl) * len(sample))\n",
    "            var = -np.percentile(sample, 100 * (1 - cl))\n",
    "            es = -sorted_sample[:cutoff_idx].mean()\n",
    "            var_boot[f\"{int(cl * 100)}%\"].append(var)\n",
    "            es_boot[f\"{int(cl * 100)}%\"].append(es)\n",
    "\n",
    "    # CI bounds\n",
    "    lower_q = (1 - ci_level) / 2 * 100\n",
    "    upper_q = 100 - lower_q\n",
    "\n",
    "    ci_var = {\n",
    "        cl: (np.percentile(var_boot[cl], lower_q), np.percentile(var_boot[cl], upper_q))\n",
    "        for cl in var_boot\n",
    "    }\n",
    "    ci_es = {\n",
    "        cl: (np.percentile(es_boot[cl], lower_q), np.percentile(es_boot[cl], upper_q))\n",
    "        for cl in es_boot\n",
    "    }\n",
    "\n",
    "    # Format into DataFrames\n",
    "    ci_var_df = pd.DataFrame(ci_var, index=['VaR Lower Bound', 'VaR Upper Bound']).T\n",
    "    ci_es_df = pd.DataFrame(ci_es, index=['ES Lower Bound', 'ES Upper Bound']).T\n",
    "\n",
    "    return ci_var_df, ci_es_df"
   ]
  },
  {
   "cell_type": "code",
   "execution_count": 161,
   "id": "69fa2d09-c9c9-4843-9e1f-a0752c6d9853",
   "metadata": {},
   "outputs": [],
   "source": [
    "# Run for both log and simple returns\n",
    "ci_var_log, ci_es_log = bootstrap_ci(tsla['Log_Returns'])\n",
    "ci_var_simple, ci_es_simple = bootstrap_ci(tsla['Simple_Returns'])"
   ]
  },
  {
   "cell_type": "code",
   "execution_count": 162,
   "id": "364d67f5-31d9-4cf9-af24-265029002fa4",
   "metadata": {},
   "outputs": [],
   "source": [
    "# Combine and format\n",
    "ci_log = pd.concat([ci_var_log, ci_es_log], axis=1)\n",
    "ci_log.index.name = \"Log Returns\"\n",
    "ci_simple = pd.concat([ci_var_simple, ci_es_simple], axis=1)\n",
    "ci_simple.index.name = \"Simple Returns\""
   ]
  },
  {
   "cell_type": "code",
   "execution_count": 165,
   "id": "0c2316c5-5805-4bb6-b607-1741ef7a024e",
   "metadata": {},
   "outputs": [
    {
     "name": "stderr",
     "output_type": "stream",
     "text": [
      "C:\\Users\\Inno Mvula\\AppData\\Local\\Temp\\ipykernel_11664\\2621333728.py:2: FutureWarning: DataFrame.applymap has been deprecated. Use DataFrame.map instead.\n",
      "  ci_log = ci_log.applymap(lambda x: f\"{x:.2%}\")\n",
      "C:\\Users\\Inno Mvula\\AppData\\Local\\Temp\\ipykernel_11664\\2621333728.py:3: FutureWarning: DataFrame.applymap has been deprecated. Use DataFrame.map instead.\n",
      "  ci_simple = ci_simple.applymap(lambda x: f\"{x:.2%}\")\n"
     ]
    }
   ],
   "source": [
    "# Format as percentages\n",
    "ci_log = ci_log.applymap(lambda x: f\"{x:.2%}\")\n",
    "ci_simple = ci_simple.applymap(lambda x: f\"{x:.2%}\")"
   ]
  },
  {
   "cell_type": "code",
   "execution_count": 169,
   "id": "c62de42f-9b88-454c-bcb7-3919c607607c",
   "metadata": {},
   "outputs": [
    {
     "name": "stdout",
     "output_type": "stream",
     "text": [
      " 95% Confidence Intervals (Historical Estimates) — Log Returns:\n",
      "            VaR Lower Bound VaR Upper Bound ES Lower Bound ES Upper Bound\n",
      "Log Returns                                                              \n",
      "95%                   5.06%           7.49%          7.25%         11.05%\n",
      "99%                   8.44%          13.16%          9.67%         16.75%\n",
      "\n",
      " 95% Confidence Intervals (Historical Estimates) — Simple Returns:\n",
      "               VaR Lower Bound VaR Upper Bound ES Lower Bound ES Upper Bound\n",
      "Simple Returns                                                              \n",
      "95%                      4.90%           7.21%          6.85%         10.40%\n",
      "99%                      8.09%          14.48%          9.33%         15.43%\n"
     ]
    }
   ],
   "source": [
    "print(\" 95% Confidence Intervals (Historical Estimates) — Log Returns:\")\n",
    "print(ci_log)\n",
    "print(\"\\n 95% Confidence Intervals (Historical Estimates) — Simple Returns:\")\n",
    "print(ci_simple)"
   ]
  },
  {
   "cell_type": "code",
   "execution_count": null,
   "id": "407fe900-fd9d-4ae7-9969-ddb93fec235e",
   "metadata": {},
   "outputs": [],
   "source": []
  }
 ],
 "metadata": {
  "kernelspec": {
   "display_name": "Python [conda env:base] *",
   "language": "python",
   "name": "conda-base-py"
  },
  "language_info": {
   "codemirror_mode": {
    "name": "ipython",
    "version": 3
   },
   "file_extension": ".py",
   "mimetype": "text/x-python",
   "name": "python",
   "nbconvert_exporter": "python",
   "pygments_lexer": "ipython3",
   "version": "3.12.7"
  }
 },
 "nbformat": 4,
 "nbformat_minor": 5
}
